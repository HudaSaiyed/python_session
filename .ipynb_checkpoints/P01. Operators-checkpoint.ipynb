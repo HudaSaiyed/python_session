{
 "cells": [
  {
   "cell_type": "code",
   "execution_count": null,
   "id": "e86f9f2e-3536-4b26-b801-74064bc11555",
   "metadata": {},
   "outputs": [],
   "source": [
    "# i am modyfying the code "
   ]
  },
  {
   "cell_type": "code",
   "execution_count": null,
   "id": "1c9518dc-0ff0-4bd5-af29-bf1ae4bbc2c5",
   "metadata": {},
   "outputs": [],
   "source": [
    "#arithmetic operators"
   ]
  },
  {
   "cell_type": "code",
   "execution_count": 2,
   "id": "b9a148d6-cf45-47d0-8341-269bcc3480da",
   "metadata": {},
   "outputs": [],
   "source": [
    "# +\tAddition\tx + y\t\n",
    "# -\tSubtraction\tx - y\t\n",
    "# *\tMultiplication\tx * y\t\n",
    "# /\tDivision\tx / y\t\n",
    "# %\tModulus\tx % y\t\n",
    "# **\tExponentiation\tx ** y\t\n",
    "# //\tFloor division\tx // y"
   ]
  },
  {
   "cell_type": "code",
   "execution_count": 3,
   "id": "d99a900a-4154-4c84-897b-d74428befb71",
   "metadata": {},
   "outputs": [],
   "source": [
    "# assignment operators"
   ]
  },
  {
   "cell_type": "code",
   "execution_count": 4,
   "id": "d137d107-0b25-40fb-9514-b54da7b4ad89",
   "metadata": {},
   "outputs": [],
   "source": [
    "# =\tx = 5\tx = 5\t\n",
    "# +=\tx += 3\tx = x + 3\t\n",
    "# -=\tx -= 3\tx = x - 3\t\n",
    "# *=\tx *= 3\tx = x * 3\t\n",
    "# /=\tx /= 3\tx = x / 3\t\n",
    "# %=\tx %= 3\tx = x % 3\t\n",
    "# //=\tx //= 3\tx = x // 3\t\n",
    "# **=\tx **= 3\tx = x ** 3\t\n",
    "# &=\tx &= 3\tx = x & 3\t\n",
    "# |=\tx |= 3\tx = x | 3\t\n",
    "# ^=\tx ^= 3\tx = x ^ 3\t\n",
    "# >>=\tx >>= 3\tx = x >> 3\t\n",
    "# <<=\tx <<= 3\tx = x << 3\t\n"
   ]
  },
  {
   "cell_type": "code",
   "execution_count": 5,
   "id": "fd155fcb-adc7-4e22-8fc6-5872fe172d4b",
   "metadata": {},
   "outputs": [],
   "source": [
    "# comparison operators"
   ]
  },
  {
   "cell_type": "code",
   "execution_count": 7,
   "id": "d52b59b3-8edd-457e-9146-8145fd6d235e",
   "metadata": {},
   "outputs": [],
   "source": [
    "# ==\tEqual\tx == y\t\n",
    "# !=\tNot equal\tx != y\t\n",
    "# >\tGreater than\tx > y\t\n",
    "# <\tLess than\tx < y\t\n",
    "# >=\tGreater than or equal to\tx >= y\t\n",
    "# <=\tLess than or equal to\tx <= y"
   ]
  },
  {
   "cell_type": "code",
   "execution_count": 8,
   "id": "6d01751c-a695-4dcc-b11e-08b9d90cb7e0",
   "metadata": {},
   "outputs": [],
   "source": [
    "# logical operarors"
   ]
  },
  {
   "cell_type": "code",
   "execution_count": 10,
   "id": "02e19528-25a5-43e2-acd6-180e1a486154",
   "metadata": {},
   "outputs": [],
   "source": [
    "# and \tReturns True if both statements are true\tx < 5 and  x < 10\t\n",
    "# or\tReturns True if one of the statements is true\tx < 5 or x < 4\t\n",
    "# not\tReverse the result, returns False if the result is true\tnot(x < 5 and x < 10)"
   ]
  },
  {
   "cell_type": "code",
   "execution_count": null,
   "id": "be55d134-a035-4f2a-bf5f-94de63139718",
   "metadata": {},
   "outputs": [],
   "source": [
    "# identity operarors"
   ]
  },
  {
   "cell_type": "code",
   "execution_count": 12,
   "id": "519326fe-cba9-4340-823b-1e7c554e43fd",
   "metadata": {},
   "outputs": [],
   "source": [
    "# is \tReturns True if both variables are the same object\tx is y\t\n",
    "# is not\tReturns True if both variables are not the same object\tx is not y"
   ]
  },
  {
   "cell_type": "code",
   "execution_count": 13,
   "id": "a9984e01-126d-4172-a67a-584925165890",
   "metadata": {},
   "outputs": [],
   "source": [
    "# membership operatoprs"
   ]
  },
  {
   "cell_type": "code",
   "execution_count": 14,
   "id": "540d31b5-a565-4d0d-91c2-23800637d869",
   "metadata": {},
   "outputs": [],
   "source": [
    "# in \tReturns True if a sequence with the specified value is present in the object\tx in y\t\n",
    "# not in\tReturns True if a sequence with the specified value is not present in the object\tx not in y"
   ]
  },
  {
   "cell_type": "code",
   "execution_count": 15,
   "id": "99f0ee9e-84a6-4d97-b049-efe2add378db",
   "metadata": {},
   "outputs": [],
   "source": [
    "# bitwise operators"
   ]
  },
  {
   "cell_type": "code",
   "execution_count": 16,
   "id": "c40e8a01-9308-4666-991b-aaf8045a9246",
   "metadata": {},
   "outputs": [],
   "source": [
    "# & \tAND\tSets each bit to 1 if both bits are 1\t\n",
    "# x & y\t\n",
    "\n",
    "# |\tOR\tSets each bit to 1 if one of two bits is 1\t\n",
    "# x | y\t\n",
    "\n",
    "# ^\tXOR\tSets each bit to 1 if only one of two bits is 1\t\n",
    "# x ^ y\t\n",
    "\n",
    "# ~\tNOT\tInverts all the bits\t\n",
    "# ~x\t\n",
    "\n",
    "# <<\tZero fill left shift\tShift left by pushing zeros in from the right and let the leftmost bits fall off\t\n",
    "# x << 2\t\n",
    "\n",
    "# >>\tSigned right shift\tShift right by pushing copies of the leftmost bit in from the left, \n",
    "# and let the rightmost bits fall off\t\n",
    "# x >> 2"
   ]
  },
  {
   "cell_type": "code",
   "execution_count": 17,
   "id": "c1291995-d97a-491a-91f7-d426ec5249d7",
   "metadata": {},
   "outputs": [],
   "source": [
    "# operattors precedence"
   ]
  },
  {
   "cell_type": "code",
   "execution_count": 18,
   "id": "9e51c900-fe29-4edd-b658-6da45491e65c",
   "metadata": {},
   "outputs": [
    {
     "name": "stdout",
     "output_type": "stream",
     "text": [
      "0\n"
     ]
    }
   ],
   "source": [
    "print((6 + 3) - (6 + 3))"
   ]
  },
  {
   "cell_type": "code",
   "execution_count": 19,
   "id": "02b6af9e-51c4-4dc4-bbec-bd0423c2fa71",
   "metadata": {},
   "outputs": [
    {
     "name": "stdout",
     "output_type": "stream",
     "text": [
      "115\n"
     ]
    }
   ],
   "source": [
    "# Multiplication * has higher precedence than addition +, and therefor multiplications are evaluated before additions:\n",
    "\n",
    "print(100 + 5 * 3)"
   ]
  },
  {
   "cell_type": "code",
   "execution_count": 20,
   "id": "e2ff8b13-c5da-4a7b-94fd-2c417f70d9b6",
   "metadata": {},
   "outputs": [],
   "source": [
    "# The precedence order is described in the table below, starting with the highest precedence at the top:\n",
    "\n",
    "# ()\t                      Parentheses\t\n",
    "# **\t                      Exponentiation\t\n",
    "# +x  -x  ~x\t              Unary plus, unary minus, and bitwise NOT\t\n",
    "# *  /  //  %\t              Multiplication, division, floor division, and modulus\t\n",
    "# +  -\t                      Addition and subtraction\t\n",
    "# <<  >>\t                  Bitwise left and right shifts\t\n",
    "# &\t                          Bitwise AND\t\n",
    "# ^\t                          Bitwise XOR\t\n",
    "# |\t                          Bitwise OR\t\n",
    "# ==  !=  >  >=  <  <=        Comparisons, identity, and membership operators\n",
    "# is  is not  in  not in \t  \t\n",
    "# not\t                      Logical NOT\t\n",
    "# and\t                      AND\t\n",
    "# or\t                      OR\n",
    "\n",
    "# If two operators have the same precedence, the expression is evaluated from left to right."
   ]
  },
  {
   "cell_type": "code",
   "execution_count": null,
   "id": "9a79be8f-2e68-4242-8b83-bdd2a3f84964",
   "metadata": {},
   "outputs": [],
   "source": []
  }
 ],
 "metadata": {
  "kernelspec": {
   "display_name": "Python 3 (ipykernel)",
   "language": "python",
   "name": "python3"
  },
  "language_info": {
   "codemirror_mode": {
    "name": "ipython",
    "version": 3
   },
   "file_extension": ".py",
   "mimetype": "text/x-python",
   "name": "python",
   "nbconvert_exporter": "python",
   "pygments_lexer": "ipython3",
   "version": "3.12.1"
  }
 },
 "nbformat": 4,
 "nbformat_minor": 5
}
